{
  "nbformat": 4,
  "nbformat_minor": 0,
  "metadata": {
    "colab": {
      "provenance": [],
      "authorship_tag": "ABX9TyM9XJHgqkbby8zBE5vgAiNf",
      "include_colab_link": true
    },
    "kernelspec": {
      "name": "python3",
      "display_name": "Python 3"
    },
    "language_info": {
      "name": "python"
    }
  },
  "cells": [
    {
      "cell_type": "markdown",
      "metadata": {
        "id": "view-in-github",
        "colab_type": "text"
      },
      "source": [
        "<a href=\"https://colab.research.google.com/github/Samuel-538/Data-Mining/blob/main/Data_3.ipynb\" target=\"_parent\"><img src=\"https://colab.research.google.com/assets/colab-badge.svg\" alt=\"Open In Colab\"/></a>"
      ]
    },
    {
      "cell_type": "code",
      "execution_count": 1,
      "metadata": {
        "id": "F4TNAJFM_OU3"
      },
      "outputs": [],
      "source": [
        "from sklearn.datasets import load_iris\n",
        "import pandas as pd"
      ]
    },
    {
      "cell_type": "code",
      "source": [
        "iris = load_iris()\n",
        "data = pd.DataFrame(iris.data,columns = iris.feature_names)"
      ],
      "metadata": {
        "id": "MrX-Vy3jGa2d"
      },
      "execution_count": 2,
      "outputs": []
    },
    {
      "cell_type": "code",
      "source": [
        "data['target'] = iris.target"
      ],
      "metadata": {
        "id": "FlHFKIdVGd8U"
      },
      "execution_count": 3,
      "outputs": []
    },
    {
      "cell_type": "code",
      "source": [
        "from sklearn.metrics.pairwise import cosine_similarity\n",
        "cosine_similarity_result = cosine_similarity(data.iloc[[0]], data.iloc[[1]])\n",
        "cosine_similarity_result"
      ],
      "metadata": {
        "colab": {
          "base_uri": "https://localhost:8080/"
        },
        "id": "0WKHa7SuGfxQ",
        "outputId": "3943aa58-960c-4d48-b593-a79630263682"
      },
      "execution_count": 4,
      "outputs": [
        {
          "output_type": "execute_result",
          "data": {
            "text/plain": [
              "array([[0.99857916]])"
            ]
          },
          "metadata": {},
          "execution_count": 4
        }
      ]
    },
    {
      "cell_type": "code",
      "source": [
        "from sklearn.metrics.pairwise import euclidean_distances\n",
        "euc_dis = euclidean_distances(data.iloc[[0]],data.iloc[[1]])\n",
        "euc_dis"
      ],
      "metadata": {
        "colab": {
          "base_uri": "https://localhost:8080/"
        },
        "id": "YO_BMMQOGh3r",
        "outputId": "fd4dc9cb-65e0-4c90-b9bc-6f8c24d9d53d"
      },
      "execution_count": 5,
      "outputs": [
        {
          "output_type": "execute_result",
          "data": {
            "text/plain": [
              "array([[0.53851648]])"
            ]
          },
          "metadata": {},
          "execution_count": 5
        }
      ]
    },
    {
      "cell_type": "code",
      "source": [
        "from scipy.stats import pearsonr\n",
        "corr,_ = pearsonr(data['petal length (cm)'],data['sepal width (cm)'])\n",
        "corr"
      ],
      "metadata": {
        "colab": {
          "base_uri": "https://localhost:8080/"
        },
        "id": "DSkCJtjdGjvo",
        "outputId": "99422bcf-d730-4f0a-aee5-f20098c51d7e"
      },
      "execution_count": 6,
      "outputs": [
        {
          "output_type": "execute_result",
          "data": {
            "text/plain": [
              "-0.4284401043305397"
            ]
          },
          "metadata": {},
          "execution_count": 6
        }
      ]
    },
    {
      "cell_type": "code",
      "source": [
        "from sklearn.metrics import jaccard_score\n",
        "import numpy as np\n",
        "\n",
        "# Assuming 'data' is your DataFrame and 'target' is the column containing the target values\n",
        "target_set_1 = set([data.iloc[0]['target']])\n",
        "target_set_2 = set([data.iloc[1]['target']])\n",
        "\n",
        "# Convert sets to lists and calculate Jaccard similarity\n",
        "jac_sim = jaccard_score(list(target_set_1), list(target_set_2), average='micro')\n",
        "jac_sim"
      ],
      "metadata": {
        "colab": {
          "base_uri": "https://localhost:8080/"
        },
        "id": "Z1VyMt5oGmHD",
        "outputId": "fae2535d-5710-45cc-e330-2320715275b4"
      },
      "execution_count": 7,
      "outputs": [
        {
          "output_type": "execute_result",
          "data": {
            "text/plain": [
              "1.0"
            ]
          },
          "metadata": {},
          "execution_count": 7
        }
      ]
    },
    {
      "cell_type": "code",
      "source": [
        "\n",
        "from sklearn.metrics.pairwise import manhattan_distances\n",
        "\n",
        "# Assuming 'data' is your DataFrame\n",
        "row_1 = data.iloc[[0], :-1]\n",
        "row_2 = data.iloc[[1], :-1]\n",
        "\n",
        "manhattan_dist = manhattan_distances(row_1, row_2)\n",
        "\n",
        "# Ensure 'print' is not assigned to a variable\n",
        "manhattan_dist\n"
      ],
      "metadata": {
        "colab": {
          "base_uri": "https://localhost:8080/"
        },
        "id": "vByK3ILnGoKC",
        "outputId": "0220ed16-d5ca-42aa-f566-e11953889dc6"
      },
      "execution_count": 8,
      "outputs": [
        {
          "output_type": "execute_result",
          "data": {
            "text/plain": [
              "array([[0.7]])"
            ]
          },
          "metadata": {},
          "execution_count": 8
        }
      ]
    },
    {
      "cell_type": "code",
      "source": [],
      "metadata": {
        "id": "1BSOCCkaGqGq"
      },
      "execution_count": null,
      "outputs": []
    }
  ]
}